{
 "cells": [
  {
   "cell_type": "code",
   "execution_count": 4,
   "metadata": {},
   "outputs": [],
   "source": [
    "#get the dataset https://www.kaggle.com/mmoreaux/audio-cats-and-dogs\n",
    "\n",
    "\n",
    "import librosa\n",
    "import os\n",
    "import math\n",
    "import numpy as np\n",
    "import pandas as pd\n",
    "from tqdm import tqdm\n",
    "from sklearn.model_selection import train_test_split\n",
    "import tensorflow.keras as keras\n",
    "import matplotlib.pyplot as plt\n",
    "\n",
    "import tensorflow as tf\n",
    "\n",
    "gpu_options = tf.compat.v1.GPUOptions(per_process_gpu_memory_fraction=0.3333)\n",
    "sess = tf.compat.v1.Session(config=tf.compat.v1.ConfigProto(gpu_options=gpu_options))"
   ]
  },
  {
   "cell_type": "markdown",
   "metadata": {},
   "source": [
    "# GETTING THE MAX DURATION"
   ]
  },
  {
   "cell_type": "code",
   "execution_count": 5,
   "metadata": {},
   "outputs": [
    {
     "name": "stdout",
     "output_type": "stream",
     "text": [
      "max signal length: 396371\n",
      "max duration: 17.976009070294786\n"
     ]
    }
   ],
   "source": [
    "DATASET_FOLDER = \"cats_dogs/\"\n",
    "SAMPLE_RATE = 22050\n",
    "\n",
    "max_signal_length = 0\n",
    "max_duration = 0\n",
    "\n",
    "for file in tqdm(os.listdir(DATASET_FOLDER)):\n",
    "    if '_' in file:\n",
    "        file_path = os.path.join(DATASET_FOLDER, file)\n",
    "        signal, sr = librosa.load(file_path, sr=SAMPLE_RATE)\n",
    "        duration = len(signal)/sr\n",
    "        \n",
    "        if len(signal)>max_signal_length:\n",
    "            max_signal_length = len(signal)\n",
    "        if duration>max_duration:\n",
    "            max_duration = duration\n",
    "            \n",
    "print(f\"max signal length: {max_signal_length}\")\n",
    "print(f\"max duration: {max_duration}\")"
   ]
  },
  {
   "cell_type": "code",
   "execution_count": 6,
   "metadata": {},
   "outputs": [
    {
     "name": "stdout",
     "output_type": "stream",
     "text": [
      "duration after ceil:18\n",
      "SAMPLES_PER_TRACK: 396900\n"
     ]
    }
   ],
   "source": [
    "DURATION = math.ceil(max_duration)\n",
    "SAMPLES_PER_TRACK = DURATION * SAMPLE_RATE\n",
    "\n",
    "print(f\"duration after ceil:{DURATION}\")\n",
    "print(f\"SAMPLES_PER_TRACK: {SAMPLES_PER_TRACK}\")"
   ]
  },
  {
   "cell_type": "markdown",
   "metadata": {},
   "source": [
    "## Defining a Padding Function\n",
    "\n",
    "doing this because our wav files vary in length"
   ]
  },
  {
   "cell_type": "code",
   "execution_count": 8,
   "metadata": {},
   "outputs": [],
   "source": [
    "def pad_signal(signal, max_length):\n",
    "    data = signal\n",
    "    if len(signal) < max_length:\n",
    "        data = np.pad(data,(0, max(0, max_length-len(signal))))\n",
    "    return data        "
   ]
  },
  {
   "cell_type": "code",
   "execution_count": 9,
   "metadata": {},
   "outputs": [],
   "source": [
    "def save_mfcc(dataset_path, save_path, n_mfcc=13, n_fft=2048, hop_length=512, num_segments=5):\n",
    "    \n",
    "    data = []\n",
    "    num_samples_per_segment = int(SAMPLES_PER_TRACK/num_segments)\n",
    "       \n",
    "    for f in tqdm(os.listdir(dataset_path)):\n",
    "        if '_' in f:\n",
    "            file_path = os.path.join(dataset_path, f)\n",
    "            signal, sr = librosa.load(file_path, sr=SAMPLE_RATE)\n",
    "            \n",
    "            if len(signal)<SAMPLES_PER_TRACK:\n",
    "                signal = pad_signal(signal, SAMPLES_PER_TRACK) #reassign signal if it doesn't have the correct length\n",
    "            \n",
    "            for s in range(num_segments):\n",
    "                start_sample = num_samples_per_segment * s\n",
    "                finish_sample = start_sample+num_samples_per_segment\n",
    "                \n",
    "                mfcc = librosa.feature.mfcc(signal[start_sample:finish_sample],\n",
    "                                           sr = sr,\n",
    "                                           n_fft = n_fft,\n",
    "                                           n_mfcc = n_mfcc,\n",
    "                                           hop_length=hop_length)\n",
    "                mfcc = mfcc.T\n",
    "                \n",
    "                if 'cat' in f:\n",
    "                    label = 0\n",
    "                elif 'dog' in f:\n",
    "                    label = 1\n",
    "                    \n",
    "                data.append((np.array(mfcc.tolist()), label))\n",
    "                #print(f\"{file_path}, segment: {s}\")\n",
    "                \n",
    "        np.random.shuffle(data)\n",
    "        np.save(save_path, data)\n",
    "       "
   ]
  },
  {
   "cell_type": "code",
   "execution_count": 54,
   "metadata": {},
   "outputs": [
    {
     "name": "stderr",
     "output_type": "stream",
     "text": [
      "100%|██████████| 279/279 [00:40<00:00,  6.90it/s]\n"
     ]
    }
   ],
   "source": [
    "save_mfcc(DATASET_FOLDER, \"data.npy\")"
   ]
  },
  {
   "cell_type": "code",
   "execution_count": 26,
   "metadata": {},
   "outputs": [
    {
     "name": "stdout",
     "output_type": "stream",
     "text": [
      "1385\n"
     ]
    }
   ],
   "source": [
    "X = []\n",
    "y = []\n",
    "data = np.load(\"data.npy\", allow_pickle=True)\n",
    "\n",
    "for feature, label in data:\n",
    "    X.append(feature)\n",
    "    y.append(label)\n",
    "    \n",
    "X = np.array(X)\n",
    "y = np.array(y)\n",
    "\n",
    "print(len(X))\n",
    "    "
   ]
  },
  {
   "cell_type": "code",
   "execution_count": 11,
   "metadata": {},
   "outputs": [],
   "source": [
    "def plot_history(history):\n",
    "    \n",
    "    fig, axs = plt.subplots(2)\n",
    "    #create accuracy subplot\n",
    "    axs[0].plot(history.history[\"accuracy\"], label=\"train accuracy\")\n",
    "    axs[0].plot(history.history[\"val_accuracy\"], label=\"test accuracy\")\n",
    "    axs[0].set_ylabel(\"Accuracy\")\n",
    "    axs[0].legend(loc=\"lower right\")\n",
    "    axs[0].set_title(\"Accuracy eval\")\n",
    "\n",
    "    #create error/loss subplot\n",
    "    axs[1].plot(history.history[\"loss\"], label=\"train error\")\n",
    "    axs[1].plot(history.history[\"val_loss\"], label=\"test error\")\n",
    "    axs[1].set_ylabel(\"Error\")\n",
    "    axs[1].set_xlabel(\"Epoch\")\n",
    "    axs[1].legend(loc=\"upper right\")\n",
    "    axs[1].set_title(\"Error eval\")\n",
    "    \n",
    "    plt.show()"
   ]
  },
  {
   "cell_type": "code",
   "execution_count": 12,
   "metadata": {},
   "outputs": [],
   "source": [
    "def prepare_datasets(X, y):\n",
    "    X_train, X_test, y_train, y_test = train_test_split(X, y, test_size=0.25)\n",
    "    X_train = X_train[..., np.newaxis]\n",
    "    X_test = X_test[..., np.newaxis]\n",
    "    \n",
    "    return X_train, X_test, y_train, y_test    "
   ]
  },
  {
   "cell_type": "code",
   "execution_count": 13,
   "metadata": {},
   "outputs": [
    {
     "name": "stdout",
     "output_type": "stream",
     "text": [
      "(156, 13, 1)\n"
     ]
    }
   ],
   "source": [
    "X_train, X_test, y_train, y_test = prepare_datasets(X, y)\n",
    "print(X_train[0].shape)"
   ]
  },
  {
   "cell_type": "code",
   "execution_count": 21,
   "metadata": {},
   "outputs": [],
   "source": [
    "def build_model(input_shape):\n",
    "    \n",
    "    model = keras.Sequential()\n",
    "    \n",
    "    \n",
    "    model.add(keras.layers.Conv2D(128, (3, 3), activation=\"relu\", input_shape=input_shape))\n",
    "    model.add(keras.layers.MaxPool2D((3,3), strides=(2,2), padding=\"same\"))\n",
    "    model.add(keras.layers.BatchNormalization())\n",
    "    \n",
    "    model.add(keras.layers.Conv2D(128, (3, 3), activation=\"relu\", input_shape=input_shape))\n",
    "    model.add(keras.layers.MaxPool2D((3,3), strides=(2,2), padding=\"same\"))\n",
    "    model.add(keras.layers.BatchNormalization())\n",
    "    \n",
    "    model.add(keras.layers.Conv2D(128, (2, 2), activation=\"relu\", input_shape=input_shape))\n",
    "    model.add(keras.layers.MaxPool2D((2,2), strides=(2,2), padding=\"same\"))\n",
    "    model.add(keras.layers.BatchNormalization())\n",
    "    \n",
    "    model.add(keras.layers.Flatten())\n",
    "    model.add(keras.layers.Dense(64, activation='relu'))\n",
    "    model.add(keras.layers.Dropout(0.3))\n",
    "    \n",
    "    model.add(keras.layers.Dense(10, activation='softmax'))\n",
    "    \n",
    "    return model"
   ]
  },
  {
   "cell_type": "code",
   "execution_count": 22,
   "metadata": {},
   "outputs": [
    {
     "name": "stdout",
     "output_type": "stream",
     "text": [
      "Model: \"sequential_2\"\n",
      "_________________________________________________________________\n",
      "Layer (type)                 Output Shape              Param #   \n",
      "=================================================================\n",
      "conv2d_6 (Conv2D)            (None, 154, 11, 128)      1280      \n",
      "_________________________________________________________________\n",
      "max_pooling2d_6 (MaxPooling2 (None, 77, 6, 128)        0         \n",
      "_________________________________________________________________\n",
      "batch_normalization_6 (Batch (None, 77, 6, 128)        512       \n",
      "_________________________________________________________________\n",
      "conv2d_7 (Conv2D)            (None, 75, 4, 128)        147584    \n",
      "_________________________________________________________________\n",
      "max_pooling2d_7 (MaxPooling2 (None, 38, 2, 128)        0         \n",
      "_________________________________________________________________\n",
      "batch_normalization_7 (Batch (None, 38, 2, 128)        512       \n",
      "_________________________________________________________________\n",
      "conv2d_8 (Conv2D)            (None, 37, 1, 128)        65664     \n",
      "_________________________________________________________________\n",
      "max_pooling2d_8 (MaxPooling2 (None, 19, 1, 128)        0         \n",
      "_________________________________________________________________\n",
      "batch_normalization_8 (Batch (None, 19, 1, 128)        512       \n",
      "_________________________________________________________________\n",
      "flatten_2 (Flatten)          (None, 2432)              0         \n",
      "_________________________________________________________________\n",
      "dense_4 (Dense)              (None, 64)                155712    \n",
      "_________________________________________________________________\n",
      "dropout_2 (Dropout)          (None, 64)                0         \n",
      "_________________________________________________________________\n",
      "dense_5 (Dense)              (None, 10)                650       \n",
      "=================================================================\n",
      "Total params: 372,426\n",
      "Trainable params: 371,658\n",
      "Non-trainable params: 768\n",
      "_________________________________________________________________\n"
     ]
    }
   ],
   "source": [
    "input_shape = X_train[0].shape\n",
    "model = build_model(input_shape)\n",
    "\n",
    "model.summary()"
   ]
  },
  {
   "cell_type": "code",
   "execution_count": 24,
   "metadata": {},
   "outputs": [
    {
     "name": "stdout",
     "output_type": "stream",
     "text": [
      "Epoch 1/50\n",
      "1/9 [==>...........................] - ETA: 0s - loss: 0.4206 - accuracy: 0.6875WARNING:tensorflow:Callbacks method `on_train_batch_end` is slow compared to the batch time (batch time: 0.0144s vs `on_train_batch_end` time: 0.0236s). Check your callbacks.\n",
      "9/9 [==============================] - 1s 57ms/step - loss: 0.3765 - accuracy: 0.7563 - val_loss: 0.6392 - val_accuracy: 0.6859\n",
      "Epoch 2/50\n",
      "9/9 [==============================] - 0s 36ms/step - loss: 0.3976 - accuracy: 0.7245 - val_loss: 0.6328 - val_accuracy: 0.6888\n",
      "Epoch 3/50\n",
      "9/9 [==============================] - 0s 36ms/step - loss: 0.3948 - accuracy: 0.7331 - val_loss: 0.7317 - val_accuracy: 0.6974\n",
      "Epoch 4/50\n",
      "9/9 [==============================] - 0s 37ms/step - loss: 0.3936 - accuracy: 0.7428 - val_loss: 0.7210 - val_accuracy: 0.6974\n",
      "Epoch 5/50\n",
      "9/9 [==============================] - 0s 36ms/step - loss: 0.3936 - accuracy: 0.7418 - val_loss: 0.6393 - val_accuracy: 0.6974\n",
      "Epoch 6/50\n",
      "9/9 [==============================] - 0s 36ms/step - loss: 0.3787 - accuracy: 0.7428 - val_loss: 0.6373 - val_accuracy: 0.6859\n",
      "Epoch 7/50\n",
      "9/9 [==============================] - 0s 36ms/step - loss: 0.3875 - accuracy: 0.7370 - val_loss: 0.5964 - val_accuracy: 0.6916\n",
      "Epoch 8/50\n",
      "9/9 [==============================] - 0s 36ms/step - loss: 0.3773 - accuracy: 0.7553 - val_loss: 0.5548 - val_accuracy: 0.7032\n",
      "Epoch 9/50\n",
      "9/9 [==============================] - 0s 36ms/step - loss: 0.3795 - accuracy: 0.7611 - val_loss: 0.5778 - val_accuracy: 0.6974\n",
      "Epoch 10/50\n",
      "9/9 [==============================] - 0s 36ms/step - loss: 0.3837 - accuracy: 0.7399 - val_loss: 0.6096 - val_accuracy: 0.7061\n",
      "Epoch 11/50\n",
      "9/9 [==============================] - 0s 36ms/step - loss: 0.3864 - accuracy: 0.7505 - val_loss: 0.6988 - val_accuracy: 0.7003\n",
      "Epoch 12/50\n",
      "9/9 [==============================] - 0s 36ms/step - loss: 0.3805 - accuracy: 0.7428 - val_loss: 0.6697 - val_accuracy: 0.7003\n",
      "Epoch 13/50\n",
      "9/9 [==============================] - 0s 36ms/step - loss: 0.3776 - accuracy: 0.7399 - val_loss: 0.6281 - val_accuracy: 0.6945\n",
      "Epoch 14/50\n",
      "9/9 [==============================] - 0s 36ms/step - loss: 0.3883 - accuracy: 0.7370 - val_loss: 0.6633 - val_accuracy: 0.6916\n",
      "Epoch 15/50\n",
      "9/9 [==============================] - 0s 36ms/step - loss: 0.3798 - accuracy: 0.7360 - val_loss: 0.5935 - val_accuracy: 0.6945\n",
      "Epoch 16/50\n",
      "9/9 [==============================] - 0s 36ms/step - loss: 0.3932 - accuracy: 0.7264 - val_loss: 0.6309 - val_accuracy: 0.6945\n",
      "Epoch 17/50\n",
      "9/9 [==============================] - 0s 36ms/step - loss: 0.3865 - accuracy: 0.7399 - val_loss: 0.7970 - val_accuracy: 0.6888\n",
      "Epoch 18/50\n",
      "9/9 [==============================] - 0s 36ms/step - loss: 0.3767 - accuracy: 0.7534 - val_loss: 1.0902 - val_accuracy: 0.6830\n",
      "Epoch 19/50\n",
      "9/9 [==============================] - 0s 36ms/step - loss: 0.3851 - accuracy: 0.7486 - val_loss: 0.7929 - val_accuracy: 0.6772\n",
      "Epoch 20/50\n",
      "9/9 [==============================] - 0s 36ms/step - loss: 0.3958 - accuracy: 0.7380 - val_loss: 0.5838 - val_accuracy: 0.6830\n",
      "Epoch 21/50\n",
      "9/9 [==============================] - 0s 36ms/step - loss: 0.3821 - accuracy: 0.7437 - val_loss: 0.6012 - val_accuracy: 0.6945\n",
      "Epoch 22/50\n",
      "9/9 [==============================] - 0s 36ms/step - loss: 0.3786 - accuracy: 0.7447 - val_loss: 0.8176 - val_accuracy: 0.7061\n",
      "Epoch 23/50\n",
      "9/9 [==============================] - 0s 36ms/step - loss: 0.3784 - accuracy: 0.7322 - val_loss: 0.7039 - val_accuracy: 0.7061\n",
      "Epoch 24/50\n",
      "9/9 [==============================] - 0s 36ms/step - loss: 0.3883 - accuracy: 0.7370 - val_loss: 0.8389 - val_accuracy: 0.7003\n",
      "Epoch 25/50\n",
      "9/9 [==============================] - 0s 36ms/step - loss: 0.3774 - accuracy: 0.7418 - val_loss: 0.9188 - val_accuracy: 0.6916\n",
      "Epoch 26/50\n",
      "9/9 [==============================] - 0s 36ms/step - loss: 0.4005 - accuracy: 0.7197 - val_loss: 0.7216 - val_accuracy: 0.6974\n",
      "Epoch 27/50\n",
      "9/9 [==============================] - 0s 36ms/step - loss: 0.3762 - accuracy: 0.7582 - val_loss: 0.6838 - val_accuracy: 0.6945\n",
      "Epoch 28/50\n",
      "9/9 [==============================] - 0s 36ms/step - loss: 0.3739 - accuracy: 0.7447 - val_loss: 0.6758 - val_accuracy: 0.6916\n",
      "Epoch 29/50\n",
      "9/9 [==============================] - 0s 36ms/step - loss: 0.3716 - accuracy: 0.7582 - val_loss: 0.6566 - val_accuracy: 0.6888\n",
      "Epoch 30/50\n",
      "9/9 [==============================] - 0s 36ms/step - loss: 0.3743 - accuracy: 0.7447 - val_loss: 0.6473 - val_accuracy: 0.6945\n",
      "Epoch 31/50\n",
      "9/9 [==============================] - 0s 36ms/step - loss: 0.3715 - accuracy: 0.7534 - val_loss: 0.6530 - val_accuracy: 0.6974\n",
      "Epoch 32/50\n",
      "9/9 [==============================] - 0s 36ms/step - loss: 0.3775 - accuracy: 0.7341 - val_loss: 0.7137 - val_accuracy: 0.6830\n",
      "Epoch 33/50\n",
      "9/9 [==============================] - 0s 36ms/step - loss: 0.3624 - accuracy: 0.7543 - val_loss: 0.7257 - val_accuracy: 0.6801\n",
      "Epoch 34/50\n",
      "9/9 [==============================] - 0s 36ms/step - loss: 0.3746 - accuracy: 0.7293 - val_loss: 0.6937 - val_accuracy: 0.6801\n",
      "Epoch 35/50\n",
      "9/9 [==============================] - 0s 37ms/step - loss: 0.3741 - accuracy: 0.7351 - val_loss: 0.6732 - val_accuracy: 0.6888\n",
      "Epoch 36/50\n",
      "9/9 [==============================] - 0s 36ms/step - loss: 0.3622 - accuracy: 0.7669 - val_loss: 0.6706 - val_accuracy: 0.6916\n",
      "Epoch 37/50\n",
      "9/9 [==============================] - 0s 36ms/step - loss: 0.3764 - accuracy: 0.7408 - val_loss: 0.6527 - val_accuracy: 0.6916\n",
      "Epoch 38/50\n",
      "9/9 [==============================] - 0s 40ms/step - loss: 0.3967 - accuracy: 0.7235 - val_loss: 0.6659 - val_accuracy: 0.6801\n",
      "Epoch 39/50\n",
      "9/9 [==============================] - 0s 36ms/step - loss: 0.3889 - accuracy: 0.7331 - val_loss: 0.7518 - val_accuracy: 0.6945\n",
      "Epoch 40/50\n",
      "9/9 [==============================] - 0s 36ms/step - loss: 0.3783 - accuracy: 0.7447 - val_loss: 0.6829 - val_accuracy: 0.7061\n",
      "Epoch 41/50\n",
      "9/9 [==============================] - 0s 36ms/step - loss: 0.3801 - accuracy: 0.7283 - val_loss: 0.6253 - val_accuracy: 0.7089\n",
      "Epoch 42/50\n",
      "9/9 [==============================] - 0s 36ms/step - loss: 0.3773 - accuracy: 0.7380 - val_loss: 0.6446 - val_accuracy: 0.7061\n",
      "Epoch 43/50\n",
      "9/9 [==============================] - 0s 36ms/step - loss: 0.3698 - accuracy: 0.7466 - val_loss: 0.6685 - val_accuracy: 0.7061\n",
      "Epoch 44/50\n",
      "9/9 [==============================] - 0s 37ms/step - loss: 0.3724 - accuracy: 0.7524 - val_loss: 0.6231 - val_accuracy: 0.7061\n",
      "Epoch 45/50\n",
      "9/9 [==============================] - 0s 40ms/step - loss: 0.3689 - accuracy: 0.7418 - val_loss: 0.6211 - val_accuracy: 0.7061\n",
      "Epoch 46/50\n",
      "9/9 [==============================] - 0s 41ms/step - loss: 0.3768 - accuracy: 0.7437 - val_loss: 0.6033 - val_accuracy: 0.7061\n",
      "Epoch 47/50\n",
      "9/9 [==============================] - 0s 40ms/step - loss: 0.3698 - accuracy: 0.7524 - val_loss: 0.6019 - val_accuracy: 0.7061\n",
      "Epoch 48/50\n",
      "9/9 [==============================] - 0s 40ms/step - loss: 0.3676 - accuracy: 0.7476 - val_loss: 0.6157 - val_accuracy: 0.7032\n",
      "Epoch 49/50\n",
      "9/9 [==============================] - 0s 39ms/step - loss: 0.3656 - accuracy: 0.7447 - val_loss: 0.6354 - val_accuracy: 0.7003\n",
      "Epoch 50/50\n",
      "9/9 [==============================] - 0s 40ms/step - loss: 0.3677 - accuracy: 0.7360 - val_loss: 0.6426 - val_accuracy: 0.7003\n",
      "11/11 [==============================] - 0s 4ms/step - loss: 0.6426 - accuracy: 0.7003\n",
      "Accuracy on test set is: 0.7002881765365601\n"
     ]
    },
    {
     "data": {
      "image/png": "[encoded data removed]",
      "text/plain": [
       "<Figure size 432x288 with 2 Axes>"
      ]
     },
     "metadata": {
      "needs_background": "light"
     },
     "output_type": "display_data"
    }
   ],
   "source": [
    "optimizer = keras.optimizers.Adam(learning_rate = 0.0001)\n",
    "model.compile(optimizer=optimizer,\n",
    "             loss=\"sparse_categorical_crossentropy\",\n",
    "             metrics=[\"accuracy\"])\n",
    "\n",
    "history = model.fit(X_train, y_train, validation_data=(X_test, y_test),batch_size=64, epochs=50)\n",
    "\n",
    "test_error, test_accuracy = model.evaluate(X_test, y_test, verbose=1)\n",
    "print(f\"Accuracy on test set is: {test_accuracy}\")\n",
    "\n",
    "plot_history(history)"
   ]
  },
  {
   "cell_type": "code",
   "execution_count": 25,
   "metadata": {},
   "outputs": [
    {
     "data": {
      "text/plain": [
       "array([[[-1131.37084961],\n",
       "        [    0.        ],\n",
       "        [    0.        ],\n",
       "        ...,\n",
       "        [    0.        ],\n",
       "        [    0.        ],\n",
       "        [    0.        ]],\n",
       "\n",
       "       [[-1131.37084961],\n",
       "        [    0.        ],\n",
       "        [    0.        ],\n",
       "        ...,\n",
       "        [    0.        ],\n",
       "        [    0.        ],\n",
       "        [    0.        ]],\n",
       "\n",
       "       [[-1131.37084961],\n",
       "        [    0.        ],\n",
       "        [    0.        ],\n",
       "        ...,\n",
       "        [    0.        ],\n",
       "        [    0.        ],\n",
       "        [    0.        ]],\n",
       "\n",
       "       ...,\n",
       "\n",
       "       [[-1131.37084961],\n",
       "        [    0.        ],\n",
       "        [    0.        ],\n",
       "        ...,\n",
       "        [    0.        ],\n",
       "        [    0.        ],\n",
       "        [    0.        ]],\n",
       "\n",
       "       [[-1131.37084961],\n",
       "        [    0.        ],\n",
       "        [    0.        ],\n",
       "        ...,\n",
       "        [    0.        ],\n",
       "        [    0.        ],\n",
       "        [    0.        ]],\n",
       "\n",
       "       [[-1131.37084961],\n",
       "        [    0.        ],\n",
       "        [    0.        ],\n",
       "        ...,\n",
       "        [    0.        ],\n",
       "        [    0.        ],\n",
       "        [    0.        ]]])"
      ]
     },
     "execution_count": 25,
     "metadata": {},
     "output_type": "execute_result"
    }
   ],
   "source": [
    "X_train[0]"
   ]
  },
  {
   "cell_type": "code",
   "execution_count": null,
   "metadata": {},
   "outputs": [],
   "source": []
  },
  {
   "cell_type": "code",
   "execution_count": null,
   "metadata": {},
   "outputs": [],
   "source": []
  },
  {
   "cell_type": "code",
   "execution_count": null,
   "metadata": {},
   "outputs": [],
   "source": []
  }
 ],
 "metadata": {
  "kernelspec": {
   "display_name": "Python 3",
   "language": "python",
   "name": "python3"
  },
  "language_info": {
   "codemirror_mode": {
    "name": "ipython",
    "version": 3
   },
   "file_extension": ".py",
   "mimetype": "text/x-python",
   "name": "python",
   "nbconvert_exporter": "python",
   "pygments_lexer": "ipython3",
   "version": "3.8.3"
  }
 },
 "nbformat": 4,
 "nbformat_minor": 4
}
